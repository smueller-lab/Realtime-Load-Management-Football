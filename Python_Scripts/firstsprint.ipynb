{
 "cells": [
  {
   "cell_type": "code",
   "execution_count": 75,
   "metadata": {},
   "outputs": [],
   "source": [
    "import numpy as np\n",
    "import matplotlib.pyplot as plt\n",
    "from matplotlib.collections import LineCollection\n",
    "from matplotlib.colors import ListedColormap, BoundaryNorm\n",
    "import pandas as pd\n",
    "plt.rcParams[\"figure.figsize\"] = (20,6)"
   ]
  },
  {
   "cell_type": "code",
   "execution_count": 76,
   "metadata": {},
   "outputs": [],
   "source": [
    "df = pd.read_excel('../first_sprint.xlsx', usecols=[3, 4, 5, 6, 7])"
   ]
  },
  {
   "cell_type": "code",
   "execution_count": 77,
   "metadata": {},
   "outputs": [],
   "source": [
    "df['event'] = df['acc'].apply(lambda x: 'green' if x >= 0 else 'red')\n",
    "#df['Time'] = pd.to_datetime(df['Time'])"
   ]
  },
  {
   "cell_type": "code",
   "execution_count": 78,
   "metadata": {},
   "outputs": [
    {
     "data": {
      "text/html": [
       "<div>\n",
       "<style scoped>\n",
       "    .dataframe tbody tr th:only-of-type {\n",
       "        vertical-align: middle;\n",
       "    }\n",
       "\n",
       "    .dataframe tbody tr th {\n",
       "        vertical-align: top;\n",
       "    }\n",
       "\n",
       "    .dataframe thead th {\n",
       "        text-align: right;\n",
       "    }\n",
       "</style>\n",
       "<table border=\"1\" class=\"dataframe\">\n",
       "  <thead>\n",
       "    <tr style=\"text-align: right;\">\n",
       "      <th></th>\n",
       "      <th>Time</th>\n",
       "      <th>Time.1</th>\n",
       "      <th>speed</th>\n",
       "      <th>acc</th>\n",
       "      <th>acc4</th>\n",
       "      <th>event</th>\n",
       "    </tr>\n",
       "  </thead>\n",
       "  <tbody>\n",
       "    <tr>\n",
       "      <th>0</th>\n",
       "      <td>20:45:15.680</td>\n",
       "      <td>2019-06-05T20:45:15.680+0100</td>\n",
       "      <td>1.07</td>\n",
       "      <td>0.00</td>\n",
       "      <td>NaN</td>\n",
       "      <td>green</td>\n",
       "    </tr>\n",
       "    <tr>\n",
       "      <th>1</th>\n",
       "      <td>20:45:15.720</td>\n",
       "      <td>2019-06-05T20:45:15.720+0100</td>\n",
       "      <td>1.14</td>\n",
       "      <td>1.75</td>\n",
       "      <td>NaN</td>\n",
       "      <td>green</td>\n",
       "    </tr>\n",
       "    <tr>\n",
       "      <th>2</th>\n",
       "      <td>20:45:15.760</td>\n",
       "      <td>2019-06-05T20:45:15.760+0100</td>\n",
       "      <td>1.32</td>\n",
       "      <td>4.50</td>\n",
       "      <td>NaN</td>\n",
       "      <td>green</td>\n",
       "    </tr>\n",
       "    <tr>\n",
       "      <th>3</th>\n",
       "      <td>20:45:15.800</td>\n",
       "      <td>2019-06-05T20:45:15.800+0100</td>\n",
       "      <td>1.43</td>\n",
       "      <td>2.75</td>\n",
       "      <td>2.2500</td>\n",
       "      <td>green</td>\n",
       "    </tr>\n",
       "    <tr>\n",
       "      <th>4</th>\n",
       "      <td>20:45:15.840</td>\n",
       "      <td>2019-06-05T20:45:15.840+0100</td>\n",
       "      <td>1.60</td>\n",
       "      <td>4.25</td>\n",
       "      <td>3.3125</td>\n",
       "      <td>green</td>\n",
       "    </tr>\n",
       "    <tr>\n",
       "      <th>...</th>\n",
       "      <td>...</td>\n",
       "      <td>...</td>\n",
       "      <td>...</td>\n",
       "      <td>...</td>\n",
       "      <td>...</td>\n",
       "      <td>...</td>\n",
       "    </tr>\n",
       "    <tr>\n",
       "      <th>254</th>\n",
       "      <td>20:45:25.840</td>\n",
       "      <td>NaN</td>\n",
       "      <td>0.65</td>\n",
       "      <td>-6.50</td>\n",
       "      <td>NaN</td>\n",
       "      <td>red</td>\n",
       "    </tr>\n",
       "    <tr>\n",
       "      <th>255</th>\n",
       "      <td>20:45:25.880</td>\n",
       "      <td>NaN</td>\n",
       "      <td>1.04</td>\n",
       "      <td>9.75</td>\n",
       "      <td>NaN</td>\n",
       "      <td>green</td>\n",
       "    </tr>\n",
       "    <tr>\n",
       "      <th>256</th>\n",
       "      <td>20:45:25.920</td>\n",
       "      <td>NaN</td>\n",
       "      <td>1.54</td>\n",
       "      <td>12.50</td>\n",
       "      <td>NaN</td>\n",
       "      <td>green</td>\n",
       "    </tr>\n",
       "    <tr>\n",
       "      <th>257</th>\n",
       "      <td>20:45:25.960</td>\n",
       "      <td>NaN</td>\n",
       "      <td>1.42</td>\n",
       "      <td>-3.00</td>\n",
       "      <td>NaN</td>\n",
       "      <td>red</td>\n",
       "    </tr>\n",
       "    <tr>\n",
       "      <th>258</th>\n",
       "      <td>20:45:26.000</td>\n",
       "      <td>NaN</td>\n",
       "      <td>1.42</td>\n",
       "      <td>0.00</td>\n",
       "      <td>NaN</td>\n",
       "      <td>green</td>\n",
       "    </tr>\n",
       "  </tbody>\n",
       "</table>\n",
       "<p>259 rows × 6 columns</p>\n",
       "</div>"
      ],
      "text/plain": [
       "             Time                        Time.1  speed    acc    acc4  event\n",
       "0    20:45:15.680  2019-06-05T20:45:15.680+0100   1.07   0.00     NaN  green\n",
       "1    20:45:15.720  2019-06-05T20:45:15.720+0100   1.14   1.75     NaN  green\n",
       "2    20:45:15.760  2019-06-05T20:45:15.760+0100   1.32   4.50     NaN  green\n",
       "3    20:45:15.800  2019-06-05T20:45:15.800+0100   1.43   2.75  2.2500  green\n",
       "4    20:45:15.840  2019-06-05T20:45:15.840+0100   1.60   4.25  3.3125  green\n",
       "..            ...                           ...    ...    ...     ...    ...\n",
       "254  20:45:25.840                           NaN   0.65  -6.50     NaN    red\n",
       "255  20:45:25.880                           NaN   1.04   9.75     NaN  green\n",
       "256  20:45:25.920                           NaN   1.54  12.50     NaN  green\n",
       "257  20:45:25.960                           NaN   1.42  -3.00     NaN    red\n",
       "258  20:45:26.000                           NaN   1.42   0.00     NaN  green\n",
       "\n",
       "[259 rows x 6 columns]"
      ]
     },
     "execution_count": 78,
     "metadata": {},
     "output_type": "execute_result"
    }
   ],
   "source": [
    "df"
   ]
  },
  {
   "cell_type": "code",
   "execution_count": 79,
   "metadata": {},
   "outputs": [
    {
     "data": {
      "image/png": "[encoded data removed]",
      "text/plain": [
       "<Figure size 1440x432 with 1 Axes>"
      ]
     },
     "metadata": {
      "needs_background": "light"
     },
     "output_type": "display_data"
    }
   ],
   "source": [
    "import numpy\n",
    "from matplotlib import pyplot as plt\n",
    "\n",
    "x = df['Time']\n",
    "#y = numpy.random.choice(10,10)\n",
    "y = df['speed']\n",
    "z = df['acc']\n",
    "for x1, x2, y1,y2, z1, z2 in zip(x, x[1:], y, y[1:], z, z[1:]):\n",
    "    if z1 >= 0:\n",
    "        plt.plot([x1, x2], [y1, y2], color='g', lw=4)\n",
    "    else:\n",
    "        plt.plot([x1, x2], [y1, y2], color='r', lw=4)\n",
    "\n",
    "plt.show()"
   ]
  },
  {
   "cell_type": "code",
   "execution_count": 61,
   "metadata": {},
   "outputs": [
    {
     "data": {
      "text/plain": [
       "array([0, 0, 3, 2, 5, 7, 8, 6, 4, 5])"
      ]
     },
     "execution_count": 61,
     "metadata": {},
     "output_type": "execute_result"
    }
   ],
   "source": [
    "y"
   ]
  }
 ],
 "metadata": {
  "kernelspec": {
   "display_name": "Python 3",
   "language": "python",
   "name": "python3"
  },
  "language_info": {
   "codemirror_mode": {
    "name": "ipython",
    "version": 3
   },
   "file_extension": ".py",
   "mimetype": "text/x-python",
   "name": "python",
   "nbconvert_exporter": "python",
   "pygments_lexer": "ipython3",
   "version": "3.7.4"
  }
 },
 "nbformat": 4,
 "nbformat_minor": 2
}
