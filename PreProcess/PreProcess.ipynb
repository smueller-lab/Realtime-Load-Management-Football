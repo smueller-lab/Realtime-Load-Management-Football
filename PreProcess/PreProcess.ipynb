{
 "cells": [
  {
   "cell_type": "code",
   "execution_count": 1,
   "metadata": {},
   "outputs": [],
   "source": [
    "import pandas as pd\n",
    "import numpy as np\n",
    "import json\n",
    "from bs4 import BeautifulSoup\n",
    "pd.set_option('display.max_rows', 500)"
   ]
  },
  {
   "cell_type": "code",
   "execution_count": 2,
   "metadata": {},
   "outputs": [
    {
     "name": "stdout",
     "output_type": "stream",
     "text": [
      "1821287\n"
     ]
    }
   ],
   "source": [
    "df_list = []\n",
    "filename = 'C:/Users/sebks/PycharmProjects/Real-Time-Load-Management-Soccer/data/19060518.dat'\n",
    "with open(filename) as file:\n",
    "    lines = file.readlines()\n",
    "    print(lines[0].split(':')[0])\n",
    "    for line in lines:\n",
    "        team = line.split(':')[1].split(';')\n",
    "        one_row = ','.join(map(str, team)).split(',')\n",
    "        one_row = one_row[:-1]\n",
    "        df_list.append(one_row)"
   ]
  },
  {
   "cell_type": "code",
   "execution_count": 3,
   "metadata": {},
   "outputs": [
    {
     "name": "stdout",
     "output_type": "stream",
     "text": [
      "['team_1', 'team_2', 'team_3', 'team_4', 'team_5', 'team_6', 'team_7', 'team_8', 'team_9', 'team_10', 'team_11', 'team_12', 'team_13', 'team_14', 'team_15', 'team_16', 'team_17', 'team_18', 'team_19', 'team_20', 'team_21', 'team_22', 'team_23', 'team_24', 'team_25', 'team_26', 'team_27', 'team_28', 'team_29']\n"
     ]
    },
    {
     "name": "stderr",
     "output_type": "stream",
     "text": [
      "C:\\ProgramData\\Anaconda3\\lib\\site-packages\\ipykernel_launcher.py:27: SettingWithCopyWarning: \n",
      "A value is trying to be set on a copy of a slice from a DataFrame.\n",
      "Try using .loc[row_indexer,col_indexer] = value instead\n",
      "\n",
      "See the caveats in the documentation: https://pandas.pydata.org/pandas-docs/stable/user_guide/indexing.html#returning-a-view-versus-a-copy\n"
     ]
    }
   ],
   "source": [
    "df = pd.DataFrame(df_list)\n",
    "\n",
    "cols = ['team', 'target_id', 'number', 'x', 'y', 'speed']\n",
    "\n",
    "final_cols = []\n",
    "for i in range(1,int(len(df.columns)/6)+1):\n",
    "    for attr in cols:\n",
    "        var = attr + \"_\" + str(i)\n",
    "        final_cols.append(var)\n",
    "        \n",
    "df.columns = final_cols\n",
    "\n",
    "team = [col for col in df.columns if 'team' in col]\n",
    "target_id = [col for col in df.columns if 'target_id' in col]\n",
    "number = [col for col in df.columns if 'number' in col]\n",
    "x = [col for col in df.columns if 'x' in col]\n",
    "y = [col for col in df.columns if 'y' in col]\n",
    "speed = [col for col in df.columns if 'speed' in col]\n",
    "\n",
    "print(team)\n",
    "\n",
    "df3 = pd.lreshape(df, {'team' : team, 'target_id' : target_id, 'jersey_number': number, 'x':x, 'y':y, 'speed':speed})\n",
    "number_list = list(range(1821287,len(df)+1821287))\n",
    "df3['id'] = np.tile(number_list, len(df3)//len(number_list))\n",
    "\n",
    "df4 = df3[(df3['team'] != str(-1)) & (df3['team'] != str(4))]\n",
    "df4['id'] = df4['id'].astype(int)"
   ]
  },
  {
   "cell_type": "code",
   "execution_count": 4,
   "metadata": {},
   "outputs": [
    {
     "name": "stderr",
     "output_type": "stream",
     "text": [
      "C:\\ProgramData\\Anaconda3\\lib\\site-packages\\ipykernel_launcher.py:12: SettingWithCopyWarning: \n",
      "A value is trying to be set on a copy of a slice from a DataFrame.\n",
      "Try using .loc[row_indexer,col_indexer] = value instead\n",
      "\n",
      "See the caveats in the documentation: https://pandas.pydata.org/pandas-docs/stable/user_guide/indexing.html#returning-a-view-versus-a-copy\n",
      "  if sys.path[0] == '':\n",
      "C:\\ProgramData\\Anaconda3\\lib\\site-packages\\ipykernel_launcher.py:12: SettingWithCopyWarning: \n",
      "A value is trying to be set on a copy of a slice from a DataFrame.\n",
      "Try using .loc[row_indexer,col_indexer] = value instead\n",
      "\n",
      "See the caveats in the documentation: https://pandas.pydata.org/pandas-docs/stable/user_guide/indexing.html#returning-a-view-versus-a-copy\n",
      "  if sys.path[0] == '':\n"
     ]
    }
   ],
   "source": [
    "final_df = pd.DataFrame()\n",
    "meta_data = \"C:/Users/sebks/PycharmProjects/Real-Time-Load-Management-Soccer/data/19060518_metadata.xml\"\n",
    "with open(meta_data, 'r') as f:\n",
    "    data = f.read()\n",
    "    \n",
    "soup = BeautifulSoup(data, \"xml\")\n",
    "period = soup.find_all('period')\n",
    "for half in range(0,2):\n",
    "    start = period[half]['iStartFrame']\n",
    "    end = period[half]['iEndFrame']\n",
    "    half_df = df4[(df4['id'] >= int(start)) & (df4['id'] <= int(end))]\n",
    "    half_df['half'] = half\n",
    "    final_df = pd.concat([final_df, half_df])"
   ]
  },
  {
   "cell_type": "code",
   "execution_count": 5,
   "metadata": {
    "scrolled": true
   },
   "outputs": [],
   "source": [
    "final_df = final_df.reset_index(drop=True)\n",
    "start_time = '2019-06-05T' + soup.find_all('match')[0]['dtDate']\n",
    "final_df.insert(0, 'timestamp', pd.to_datetime(start_time))"
   ]
  },
  {
   "cell_type": "code",
   "execution_count": 6,
   "metadata": {},
   "outputs": [
    {
     "data": {
      "text/plain": [
       "Timestamp('2019-06-05 20:45:03.300000')"
      ]
     },
     "execution_count": 6,
     "metadata": {},
     "output_type": "execute_result"
    }
   ],
   "source": [
    "pd.to_datetime(final_df.iloc[0, 0]) + pd.DateOffset(seconds=3.3)"
   ]
  },
  {
   "cell_type": "code",
   "execution_count": 7,
   "metadata": {},
   "outputs": [],
   "source": [
    "# get frames per second from metadata\n",
    "fps = int(soup.find_all('match')[0]['iFrameRateFps'])\n",
    "\n",
    "# sort df by id\n",
    "sorted_df = final_df.sort_values(by='id')\n",
    "sorted_df['order'] = sorted_df.index\n",
    "\n",
    "# get first row of each id\n",
    "first_values = sorted_df.groupby('id').first()['order']\n",
    "first_values = list(first_values.values)[1:]\n",
    "\n",
    "# set value where the time increases because the frame count increases\n",
    "sorted_df.insert(len(sorted_df.columns), 'time_diff', 0)\n",
    "sorted_df.loc[sorted_df['order'].isin(first_values), 'time_diff'] = 1/fps\n",
    "sorted_df['new_id'] = sorted_df['id'] - 1870230\n",
    "\n",
    "# multiply the time diff with the number of increased frames\n",
    "sorted_df['new_time_diff'] = sorted_df['time_diff'] * sorted_df['new_id']\n",
    "# forward fill the time_diff\n",
    "sorted_df['new_time_diff'] = sorted_df['new_time_diff'].replace(to_replace=0.0, method='ffill')\n",
    "# create the new timestamps so that they matches the frame count\n",
    "sorted_df['timestamp'] = pd.to_datetime(start_time) + pd.to_timedelta(sorted_df['new_time_diff'], unit='S')"
   ]
  },
  {
   "cell_type": "code",
   "execution_count": 13,
   "metadata": {},
   "outputs": [],
   "source": [
    "export_df = sorted_df[['timestamp', 'team', 'jersey_number', 'x', 'y', 'speed', 'half']]"
   ]
  },
  {
   "cell_type": "code",
   "execution_count": 14,
   "metadata": {},
   "outputs": [],
   "source": [
    "export_df = export_df[export_df['team'] != str(3)]\n",
    "export_df = export_df.reset_index(drop=True)"
   ]
  },
  {
   "cell_type": "code",
   "execution_count": 15,
   "metadata": {},
   "outputs": [],
   "source": [
    "export_df['timestamp'] = export_df['timestamp'].dt.strftime(\"%Y-%m-%dT%H:%M:%S.%f\")\n",
    "export_df['timestamp'] = export_df['timestamp'].astype(str).str[:-3]\n",
    "export_df['timestamp'] = export_df['timestamp'] + \"+0100\""
   ]
  },
  {
   "cell_type": "code",
   "execution_count": 16,
   "metadata": {},
   "outputs": [],
   "source": [
    "export_df['teamjersey'] = export_df['jersey_number'] + export_df['team']\n",
    "export_df['teamjersey'] = export_df['teamjersey'].astype(int)\n",
    "export_df['player_id'] = export_df['teamjersey'].rank(method='dense').astype(int)"
   ]
  },
  {
   "cell_type": "code",
   "execution_count": 37,
   "metadata": {},
   "outputs": [
    {
     "data": {
      "text/html": [
       "<div>\n",
       "<style scoped>\n",
       "    .dataframe tbody tr th:only-of-type {\n",
       "        vertical-align: middle;\n",
       "    }\n",
       "\n",
       "    .dataframe tbody tr th {\n",
       "        vertical-align: top;\n",
       "    }\n",
       "\n",
       "    .dataframe thead th {\n",
       "        text-align: right;\n",
       "    }\n",
       "</style>\n",
       "<table border=\"1\" class=\"dataframe\">\n",
       "  <thead>\n",
       "    <tr style=\"text-align: right;\">\n",
       "      <th></th>\n",
       "      <th>timestamp</th>\n",
       "      <th>team</th>\n",
       "      <th>jersey_number</th>\n",
       "      <th>x</th>\n",
       "      <th>y</th>\n",
       "      <th>speed</th>\n",
       "      <th>half</th>\n",
       "      <th>teamjersey</th>\n",
       "      <th>player_id</th>\n",
       "    </tr>\n",
       "  </thead>\n",
       "  <tbody>\n",
       "    <tr>\n",
       "      <th>11</th>\n",
       "      <td>2019-06-05T20:45:00.000+0100</td>\n",
       "      <td>1</td>\n",
       "      <td>23</td>\n",
       "      <td>43</td>\n",
       "      <td>-1478</td>\n",
       "      <td>1.39</td>\n",
       "      <td>0</td>\n",
       "      <td>231</td>\n",
       "      <td>28</td>\n",
       "    </tr>\n",
       "    <tr>\n",
       "      <th>27</th>\n",
       "      <td>2019-06-05T20:45:00.040+0100</td>\n",
       "      <td>1</td>\n",
       "      <td>23</td>\n",
       "      <td>50</td>\n",
       "      <td>-1476</td>\n",
       "      <td>1.49</td>\n",
       "      <td>0</td>\n",
       "      <td>231</td>\n",
       "      <td>28</td>\n",
       "    </tr>\n",
       "    <tr>\n",
       "      <th>49</th>\n",
       "      <td>2019-06-05T20:45:00.080+0100</td>\n",
       "      <td>1</td>\n",
       "      <td>23</td>\n",
       "      <td>57</td>\n",
       "      <td>-1474</td>\n",
       "      <td>1.58</td>\n",
       "      <td>0</td>\n",
       "      <td>231</td>\n",
       "      <td>28</td>\n",
       "    </tr>\n",
       "    <tr>\n",
       "      <th>73</th>\n",
       "      <td>2019-06-05T20:45:00.120+0100</td>\n",
       "      <td>1</td>\n",
       "      <td>23</td>\n",
       "      <td>64</td>\n",
       "      <td>-1473</td>\n",
       "      <td>1.72</td>\n",
       "      <td>0</td>\n",
       "      <td>231</td>\n",
       "      <td>28</td>\n",
       "    </tr>\n",
       "    <tr>\n",
       "      <th>91</th>\n",
       "      <td>2019-06-05T20:45:00.160+0100</td>\n",
       "      <td>1</td>\n",
       "      <td>23</td>\n",
       "      <td>72</td>\n",
       "      <td>-1472</td>\n",
       "      <td>1.80</td>\n",
       "      <td>0</td>\n",
       "      <td>231</td>\n",
       "      <td>28</td>\n",
       "    </tr>\n",
       "    <tr>\n",
       "      <th>...</th>\n",
       "      <td>...</td>\n",
       "      <td>...</td>\n",
       "      <td>...</td>\n",
       "      <td>...</td>\n",
       "      <td>...</td>\n",
       "      <td>...</td>\n",
       "      <td>...</td>\n",
       "      <td>...</td>\n",
       "      <td>...</td>\n",
       "    </tr>\n",
       "    <tr>\n",
       "      <th>2342567</th>\n",
       "      <td>2019-06-05T22:11:04.720+0100</td>\n",
       "      <td>1</td>\n",
       "      <td>23</td>\n",
       "      <td>29</td>\n",
       "      <td>-3371</td>\n",
       "      <td>0.98</td>\n",
       "      <td>1</td>\n",
       "      <td>231</td>\n",
       "      <td>28</td>\n",
       "    </tr>\n",
       "    <tr>\n",
       "      <th>2342597</th>\n",
       "      <td>2019-06-05T22:11:04.760+0100</td>\n",
       "      <td>1</td>\n",
       "      <td>23</td>\n",
       "      <td>30</td>\n",
       "      <td>-3371</td>\n",
       "      <td>0.57</td>\n",
       "      <td>1</td>\n",
       "      <td>231</td>\n",
       "      <td>28</td>\n",
       "    </tr>\n",
       "    <tr>\n",
       "      <th>2342620</th>\n",
       "      <td>2019-06-05T22:11:04.800+0100</td>\n",
       "      <td>1</td>\n",
       "      <td>23</td>\n",
       "      <td>31</td>\n",
       "      <td>-3372</td>\n",
       "      <td>0.34</td>\n",
       "      <td>1</td>\n",
       "      <td>231</td>\n",
       "      <td>28</td>\n",
       "    </tr>\n",
       "    <tr>\n",
       "      <th>2342642</th>\n",
       "      <td>2019-06-05T22:11:04.840+0100</td>\n",
       "      <td>1</td>\n",
       "      <td>23</td>\n",
       "      <td>27</td>\n",
       "      <td>-3374</td>\n",
       "      <td>0.34</td>\n",
       "      <td>1</td>\n",
       "      <td>231</td>\n",
       "      <td>28</td>\n",
       "    </tr>\n",
       "    <tr>\n",
       "      <th>2342655</th>\n",
       "      <td>2019-06-05T22:11:04.880+0100</td>\n",
       "      <td>1</td>\n",
       "      <td>23</td>\n",
       "      <td>22</td>\n",
       "      <td>-3375</td>\n",
       "      <td>0.34</td>\n",
       "      <td>1</td>\n",
       "      <td>231</td>\n",
       "      <td>28</td>\n",
       "    </tr>\n",
       "  </tbody>\n",
       "</table>\n",
       "<p>106485 rows × 9 columns</p>\n",
       "</div>"
      ],
      "text/plain": [
       "                            timestamp team jersey_number   x      y speed  \\\n",
       "11       2019-06-05T20:45:00.000+0100    1            23  43  -1478  1.39   \n",
       "27       2019-06-05T20:45:00.040+0100    1            23  50  -1476  1.49   \n",
       "49       2019-06-05T20:45:00.080+0100    1            23  57  -1474  1.58   \n",
       "73       2019-06-05T20:45:00.120+0100    1            23  64  -1473  1.72   \n",
       "91       2019-06-05T20:45:00.160+0100    1            23  72  -1472  1.80   \n",
       "...                               ...  ...           ...  ..    ...   ...   \n",
       "2342567  2019-06-05T22:11:04.720+0100    1            23  29  -3371  0.98   \n",
       "2342597  2019-06-05T22:11:04.760+0100    1            23  30  -3371  0.57   \n",
       "2342620  2019-06-05T22:11:04.800+0100    1            23  31  -3372  0.34   \n",
       "2342642  2019-06-05T22:11:04.840+0100    1            23  27  -3374  0.34   \n",
       "2342655  2019-06-05T22:11:04.880+0100    1            23  22  -3375  0.34   \n",
       "\n",
       "         half  teamjersey  player_id  \n",
       "11          0         231         28  \n",
       "27          0         231         28  \n",
       "49          0         231         28  \n",
       "73          0         231         28  \n",
       "91          0         231         28  \n",
       "...       ...         ...        ...  \n",
       "2342567     1         231         28  \n",
       "2342597     1         231         28  \n",
       "2342620     1         231         28  \n",
       "2342642     1         231         28  \n",
       "2342655     1         231         28  \n",
       "\n",
       "[106485 rows x 9 columns]"
      ]
     },
     "execution_count": 37,
     "metadata": {},
     "output_type": "execute_result"
    }
   ],
   "source": [
    "export_df[export_df['player_id'] == 28]"
   ]
  },
  {
   "cell_type": "code",
   "execution_count": 38,
   "metadata": {},
   "outputs": [],
   "source": [
    "export_df.to_csv('tracking_data_id.csv', index=False)"
   ]
  },
  {
   "cell_type": "code",
   "execution_count": null,
   "metadata": {},
   "outputs": [],
   "source": []
  }
 ],
 "metadata": {
  "kernelspec": {
   "display_name": "Python 3",
   "language": "python",
   "name": "python3"
  },
  "language_info": {
   "codemirror_mode": {
    "name": "ipython",
    "version": 3
   },
   "file_extension": ".py",
   "mimetype": "text/x-python",
   "name": "python",
   "nbconvert_exporter": "python",
   "pygments_lexer": "ipython3",
   "version": "3.7.4"
  }
 },
 "nbformat": 4,
 "nbformat_minor": 2
}
